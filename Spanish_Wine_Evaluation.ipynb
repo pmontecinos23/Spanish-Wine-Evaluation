{
  "nbformat": 4,
  "nbformat_minor": 0,
  "metadata": {
    "colab": {
      "provenance": [],
      "authorship_tag": "ABX9TyNa4lqb82Zxkn5vhV0XwytX",
      "include_colab_link": true
    },
    "kernelspec": {
      "name": "python3",
      "display_name": "Python 3"
    },
    "language_info": {
      "name": "python"
    }
  },
  "cells": [
    {
      "cell_type": "markdown",
      "metadata": {
        "id": "view-in-github",
        "colab_type": "text"
      },
      "source": [
        "<a href=\"https://colab.research.google.com/github/pmontecinos23/Spanish-Wine-Evaluation/blob/main/Spanish_Wine_Evaluation.ipynb\" target=\"_parent\"><img src=\"https://colab.research.google.com/assets/colab-badge.svg\" alt=\"Open In Colab\"/></a>"
      ]
    },
    {
      "cell_type": "markdown",
      "source": [
        "# Wine Ratings or Stroke Predictions\n",
        "Author: Paul Montecinos\n"
      ],
      "metadata": {
        "id": "G3D4Oqj_yoId"
      }
    },
    {
      "cell_type": "code",
      "execution_count": 4,
      "metadata": {
        "colab": {
          "base_uri": "https://localhost:8080/"
        },
        "id": "hl6Z9tzysN87",
        "outputId": "42323124-8ec1-444a-9862-ffc0548f8d4f"
      },
      "outputs": [
        {
          "output_type": "stream",
          "name": "stdout",
          "text": [
            "Drive already mounted at /content/drive; to attempt to forcibly remount, call drive.mount(\"/content/drive\", force_remount=True).\n"
          ]
        }
      ],
      "source": [
        "from google.colab import drive\n",
        "drive.mount('/content/drive')"
      ]
    },
    {
      "cell_type": "markdown",
      "source": [
        "Imports below are temporary. I will filter through and clean it up once my data set is selected"
      ],
      "metadata": {
        "id": "ut3OREnK2J3n"
      }
    },
    {
      "cell_type": "code",
      "source": [
        "## Pandas\n",
        "import pandas as pd\n",
        "## Numpy\n",
        "import numpy as np\n",
        "# MatPlotLib\n",
        "import matplotlib.pyplot as plt\n",
        "## seaborn\n",
        "import seaborn as sns\n",
        "\n",
        "## Preprocessing\n",
        "from sklearn.model_selection import train_test_split, GridSearchCV\n",
        "from sklearn.compose import make_column_selector, make_column_transformer\n",
        "from sklearn.preprocessing import StandardScaler\n",
        "from sklearn.pipeline import make_pipeline\n",
        "\n",
        "## Models\n",
        "from sklearn.linear_model import LinearRegression\n",
        "from sklearn.linear_model import LogisticRegression\n",
        "from sklearn.ensemble import RandomForestClassifier, RandomForestRegressor\n",
        "from sklearn.neighbors import KNeighborsClassifier\n",
        "\n",
        "## Regression Metrics\n",
        "from sklearn.metrics import accuracy_score, recall_score, precision_score, \\\n",
        "f1_score, classification_report, confusion_matrix, ConfusionMatrixDisplay\n",
        "from sklearn.metrics import mean_absolute_error, mean_squared_error, r2_score\n",
        "\n",
        "\n",
        "## Set global scikit-learn configuration \n",
        "from sklearn import set_config\n",
        "## Display estimators as a diagram\n",
        "set_config(display='diagram') # 'text' or 'diagram'}"
      ],
      "metadata": {
        "id": "uZP7Vca6tX7l"
      },
      "execution_count": 18,
      "outputs": []
    },
    {
      "cell_type": "markdown",
      "source": [
        "## Loading Wine Data"
      ],
      "metadata": {
        "id": "zgyZ0Ngly0-P"
      }
    },
    {
      "cell_type": "markdown",
      "source": [
        "### Data Source: \n",
        "https://www.kaggle.com/datasets/fedesoriano/spanish-wine-quality-dataset?resource=download"
      ],
      "metadata": {
        "id": "xNPCb-8AvdJS"
      }
    },
    {
      "cell_type": "code",
      "source": [
        "wine = pd.read_csv('/content/drive/MyDrive/Stack 2 Machine Learning/03 Week 3: Classification Models/Project 2/wines_SPA.csv')\n",
        "wine.head()"
      ],
      "metadata": {
        "colab": {
          "base_uri": "https://localhost:8080/",
          "height": 206
        },
        "id": "k3BBSBZBtaG4",
        "outputId": "5b7286d6-95ce-4500-e44f-5938feca7756"
      },
      "execution_count": 6,
      "outputs": [
        {
          "output_type": "execute_result",
          "data": {
            "text/plain": [
              "          winery           wine  year  rating  num_reviews country  \\\n",
              "0  Teso La Monja          Tinto  2013     4.9           58  Espana   \n",
              "1         Artadi  Vina El Pison  2018     4.9           31  Espana   \n",
              "2   Vega Sicilia          Unico  2009     4.8         1793  Espana   \n",
              "3   Vega Sicilia          Unico  1999     4.8         1705  Espana   \n",
              "4   Vega Sicilia          Unico  1996     4.8         1309  Espana   \n",
              "\n",
              "             region   price                  type  body  acidity  \n",
              "0              Toro  995.00              Toro Red   5.0      3.0  \n",
              "1    Vino de Espana  313.50           Tempranillo   4.0      2.0  \n",
              "2  Ribera del Duero  324.95  Ribera Del Duero Red   5.0      3.0  \n",
              "3  Ribera del Duero  692.96  Ribera Del Duero Red   5.0      3.0  \n",
              "4  Ribera del Duero  778.06  Ribera Del Duero Red   5.0      3.0  "
            ],
            "text/html": [
              "\n",
              "  <div id=\"df-64f45b73-cac8-49b8-aed4-1a2cc13f4261\">\n",
              "    <div class=\"colab-df-container\">\n",
              "      <div>\n",
              "<style scoped>\n",
              "    .dataframe tbody tr th:only-of-type {\n",
              "        vertical-align: middle;\n",
              "    }\n",
              "\n",
              "    .dataframe tbody tr th {\n",
              "        vertical-align: top;\n",
              "    }\n",
              "\n",
              "    .dataframe thead th {\n",
              "        text-align: right;\n",
              "    }\n",
              "</style>\n",
              "<table border=\"1\" class=\"dataframe\">\n",
              "  <thead>\n",
              "    <tr style=\"text-align: right;\">\n",
              "      <th></th>\n",
              "      <th>winery</th>\n",
              "      <th>wine</th>\n",
              "      <th>year</th>\n",
              "      <th>rating</th>\n",
              "      <th>num_reviews</th>\n",
              "      <th>country</th>\n",
              "      <th>region</th>\n",
              "      <th>price</th>\n",
              "      <th>type</th>\n",
              "      <th>body</th>\n",
              "      <th>acidity</th>\n",
              "    </tr>\n",
              "  </thead>\n",
              "  <tbody>\n",
              "    <tr>\n",
              "      <th>0</th>\n",
              "      <td>Teso La Monja</td>\n",
              "      <td>Tinto</td>\n",
              "      <td>2013</td>\n",
              "      <td>4.9</td>\n",
              "      <td>58</td>\n",
              "      <td>Espana</td>\n",
              "      <td>Toro</td>\n",
              "      <td>995.00</td>\n",
              "      <td>Toro Red</td>\n",
              "      <td>5.0</td>\n",
              "      <td>3.0</td>\n",
              "    </tr>\n",
              "    <tr>\n",
              "      <th>1</th>\n",
              "      <td>Artadi</td>\n",
              "      <td>Vina El Pison</td>\n",
              "      <td>2018</td>\n",
              "      <td>4.9</td>\n",
              "      <td>31</td>\n",
              "      <td>Espana</td>\n",
              "      <td>Vino de Espana</td>\n",
              "      <td>313.50</td>\n",
              "      <td>Tempranillo</td>\n",
              "      <td>4.0</td>\n",
              "      <td>2.0</td>\n",
              "    </tr>\n",
              "    <tr>\n",
              "      <th>2</th>\n",
              "      <td>Vega Sicilia</td>\n",
              "      <td>Unico</td>\n",
              "      <td>2009</td>\n",
              "      <td>4.8</td>\n",
              "      <td>1793</td>\n",
              "      <td>Espana</td>\n",
              "      <td>Ribera del Duero</td>\n",
              "      <td>324.95</td>\n",
              "      <td>Ribera Del Duero Red</td>\n",
              "      <td>5.0</td>\n",
              "      <td>3.0</td>\n",
              "    </tr>\n",
              "    <tr>\n",
              "      <th>3</th>\n",
              "      <td>Vega Sicilia</td>\n",
              "      <td>Unico</td>\n",
              "      <td>1999</td>\n",
              "      <td>4.8</td>\n",
              "      <td>1705</td>\n",
              "      <td>Espana</td>\n",
              "      <td>Ribera del Duero</td>\n",
              "      <td>692.96</td>\n",
              "      <td>Ribera Del Duero Red</td>\n",
              "      <td>5.0</td>\n",
              "      <td>3.0</td>\n",
              "    </tr>\n",
              "    <tr>\n",
              "      <th>4</th>\n",
              "      <td>Vega Sicilia</td>\n",
              "      <td>Unico</td>\n",
              "      <td>1996</td>\n",
              "      <td>4.8</td>\n",
              "      <td>1309</td>\n",
              "      <td>Espana</td>\n",
              "      <td>Ribera del Duero</td>\n",
              "      <td>778.06</td>\n",
              "      <td>Ribera Del Duero Red</td>\n",
              "      <td>5.0</td>\n",
              "      <td>3.0</td>\n",
              "    </tr>\n",
              "  </tbody>\n",
              "</table>\n",
              "</div>\n",
              "      <button class=\"colab-df-convert\" onclick=\"convertToInteractive('df-64f45b73-cac8-49b8-aed4-1a2cc13f4261')\"\n",
              "              title=\"Convert this dataframe to an interactive table.\"\n",
              "              style=\"display:none;\">\n",
              "        \n",
              "  <svg xmlns=\"http://www.w3.org/2000/svg\" height=\"24px\"viewBox=\"0 0 24 24\"\n",
              "       width=\"24px\">\n",
              "    <path d=\"M0 0h24v24H0V0z\" fill=\"none\"/>\n",
              "    <path d=\"M18.56 5.44l.94 2.06.94-2.06 2.06-.94-2.06-.94-.94-2.06-.94 2.06-2.06.94zm-11 1L8.5 8.5l.94-2.06 2.06-.94-2.06-.94L8.5 2.5l-.94 2.06-2.06.94zm10 10l.94 2.06.94-2.06 2.06-.94-2.06-.94-.94-2.06-.94 2.06-2.06.94z\"/><path d=\"M17.41 7.96l-1.37-1.37c-.4-.4-.92-.59-1.43-.59-.52 0-1.04.2-1.43.59L10.3 9.45l-7.72 7.72c-.78.78-.78 2.05 0 2.83L4 21.41c.39.39.9.59 1.41.59.51 0 1.02-.2 1.41-.59l7.78-7.78 2.81-2.81c.8-.78.8-2.07 0-2.86zM5.41 20L4 18.59l7.72-7.72 1.47 1.35L5.41 20z\"/>\n",
              "  </svg>\n",
              "      </button>\n",
              "      \n",
              "  <style>\n",
              "    .colab-df-container {\n",
              "      display:flex;\n",
              "      flex-wrap:wrap;\n",
              "      gap: 12px;\n",
              "    }\n",
              "\n",
              "    .colab-df-convert {\n",
              "      background-color: #E8F0FE;\n",
              "      border: none;\n",
              "      border-radius: 50%;\n",
              "      cursor: pointer;\n",
              "      display: none;\n",
              "      fill: #1967D2;\n",
              "      height: 32px;\n",
              "      padding: 0 0 0 0;\n",
              "      width: 32px;\n",
              "    }\n",
              "\n",
              "    .colab-df-convert:hover {\n",
              "      background-color: #E2EBFA;\n",
              "      box-shadow: 0px 1px 2px rgba(60, 64, 67, 0.3), 0px 1px 3px 1px rgba(60, 64, 67, 0.15);\n",
              "      fill: #174EA6;\n",
              "    }\n",
              "\n",
              "    [theme=dark] .colab-df-convert {\n",
              "      background-color: #3B4455;\n",
              "      fill: #D2E3FC;\n",
              "    }\n",
              "\n",
              "    [theme=dark] .colab-df-convert:hover {\n",
              "      background-color: #434B5C;\n",
              "      box-shadow: 0px 1px 3px 1px rgba(0, 0, 0, 0.15);\n",
              "      filter: drop-shadow(0px 1px 2px rgba(0, 0, 0, 0.3));\n",
              "      fill: #FFFFFF;\n",
              "    }\n",
              "  </style>\n",
              "\n",
              "      <script>\n",
              "        const buttonEl =\n",
              "          document.querySelector('#df-64f45b73-cac8-49b8-aed4-1a2cc13f4261 button.colab-df-convert');\n",
              "        buttonEl.style.display =\n",
              "          google.colab.kernel.accessAllowed ? 'block' : 'none';\n",
              "\n",
              "        async function convertToInteractive(key) {\n",
              "          const element = document.querySelector('#df-64f45b73-cac8-49b8-aed4-1a2cc13f4261');\n",
              "          const dataTable =\n",
              "            await google.colab.kernel.invokeFunction('convertToInteractive',\n",
              "                                                     [key], {});\n",
              "          if (!dataTable) return;\n",
              "\n",
              "          const docLinkHtml = 'Like what you see? Visit the ' +\n",
              "            '<a target=\"_blank\" href=https://colab.research.google.com/notebooks/data_table.ipynb>data table notebook</a>'\n",
              "            + ' to learn more about interactive tables.';\n",
              "          element.innerHTML = '';\n",
              "          dataTable['output_type'] = 'display_data';\n",
              "          await google.colab.output.renderOutput(dataTable, element);\n",
              "          const docLink = document.createElement('div');\n",
              "          docLink.innerHTML = docLinkHtml;\n",
              "          element.appendChild(docLink);\n",
              "        }\n",
              "      </script>\n",
              "    </div>\n",
              "  </div>\n",
              "  "
            ]
          },
          "metadata": {},
          "execution_count": 6
        }
      ]
    },
    {
      "cell_type": "markdown",
      "source": [
        "Brief Description: with 7500 different wines we can use this data to determining ratings and popularity of spanish wines\n",
        "\n",
        "Target: Rating\n",
        "\n",
        "Row represent: Wines\n",
        "\n",
        "Classification or Regression: As an avid wine drinker, I would do a classification model determining the highest rated wines.\n",
        "\n",
        "Features: There are 11 features in this dataset"
      ],
      "metadata": {
        "id": "MgyOyDn4uppa"
      }
    },
    {
      "cell_type": "code",
      "source": [
        "wine.info()"
      ],
      "metadata": {
        "colab": {
          "base_uri": "https://localhost:8080/"
        },
        "id": "Ouky3Zps2x_B",
        "outputId": "3dc91bcb-4f2c-4bd9-cd05-060ffefa9786"
      },
      "execution_count": 7,
      "outputs": [
        {
          "output_type": "stream",
          "name": "stdout",
          "text": [
            "<class 'pandas.core.frame.DataFrame'>\n",
            "RangeIndex: 7500 entries, 0 to 7499\n",
            "Data columns (total 11 columns):\n",
            " #   Column       Non-Null Count  Dtype  \n",
            "---  ------       --------------  -----  \n",
            " 0   winery       7500 non-null   object \n",
            " 1   wine         7500 non-null   object \n",
            " 2   year         7498 non-null   object \n",
            " 3   rating       7500 non-null   float64\n",
            " 4   num_reviews  7500 non-null   int64  \n",
            " 5   country      7500 non-null   object \n",
            " 6   region       7500 non-null   object \n",
            " 7   price        7500 non-null   float64\n",
            " 8   type         6955 non-null   object \n",
            " 9   body         6331 non-null   float64\n",
            " 10  acidity      6331 non-null   float64\n",
            "dtypes: float64(4), int64(1), object(6)\n",
            "memory usage: 644.7+ KB\n"
          ]
        }
      ]
    },
    {
      "cell_type": "code",
      "source": [
        "# How many rows\n",
        "print(f'Number of rows:{len(wine.axes[0])}')"
      ],
      "metadata": {
        "colab": {
          "base_uri": "https://localhost:8080/"
        },
        "id": "8xEZXPqZy15E",
        "outputId": "0bfa68cc-21c8-4958-d777-3869cb74ef7e"
      },
      "execution_count": 8,
      "outputs": [
        {
          "output_type": "stream",
          "name": "stdout",
          "text": [
            "Number of rows:7500\n"
          ]
        }
      ]
    },
    {
      "cell_type": "markdown",
      "source": [
        "Challenges: \n",
        "* Total missing fields is 2885. Most of them are in the body and acidity type - determining what data I will fill into missing rows\n",
        "* There are lot of objects in this data to potentially convert - Potentially cause overfitting - determining which features to drop\n"
      ],
      "metadata": {
        "id": "2OHMTaAMy8io"
      }
    },
    {
      "cell_type": "code",
      "source": [
        "wine.shape\n",
        "print(f'There are {wine.shape[0]} rows, and {wine.shape[1]} columns.')\n",
        "print(f'The rows represent {wine.shape[0]} observations, and the columns represent {wine.shape[1]-1} features and 1 target variable.')"
      ],
      "metadata": {
        "colab": {
          "base_uri": "https://localhost:8080/"
        },
        "id": "o1UFth07RbvM",
        "outputId": "f7c9c74e-a931-4a96-baa2-0f1e565a0a6c"
      },
      "execution_count": 9,
      "outputs": [
        {
          "output_type": "stream",
          "name": "stdout",
          "text": [
            "There are 7500 rows, and 11 columns.\n",
            "The rows represent 7500 observations, and the columns represent 10 features and 1 target variable.\n"
          ]
        }
      ]
    },
    {
      "cell_type": "markdown",
      "source": [
        "## Data Cleaning"
      ],
      "metadata": {
        "id": "0YJFXMNqy34h"
      }
    },
    {
      "cell_type": "code",
      "source": [
        "## make columns lowercase for ease of reference and display names\n",
        "wine.columns = wine.columns.str.lower()\n",
        "wine.columns"
      ],
      "metadata": {
        "colab": {
          "base_uri": "https://localhost:8080/"
        },
        "id": "-b8QiHQPVmT6",
        "outputId": "11e7032e-1034-46e1-841b-52558c200d42"
      },
      "execution_count": 14,
      "outputs": [
        {
          "output_type": "execute_result",
          "data": {
            "text/plain": [
              "Index(['winery', 'wine', 'year', 'rating', 'num_reviews', 'country', 'region',\n",
              "       'price', 'type', 'body', 'acidity'],\n",
              "      dtype='object')"
            ]
          },
          "metadata": {},
          "execution_count": 14
        }
      ]
    },
    {
      "cell_type": "markdown",
      "source": [
        "### Checking for Duplicates"
      ],
      "metadata": {
        "id": "HRQGBBYFsDga"
      }
    },
    {
      "cell_type": "code",
      "source": [
        "# checking for duplicates\n",
        "wine.duplicated().sum()"
      ],
      "metadata": {
        "id": "sh8Wfz4zy82Z",
        "colab": {
          "base_uri": "https://localhost:8080/"
        },
        "outputId": "66490b88-47fd-4bc5-f74f-c9e7459ad83a"
      },
      "execution_count": 12,
      "outputs": [
        {
          "output_type": "execute_result",
          "data": {
            "text/plain": [
              "5452"
            ]
          },
          "metadata": {},
          "execution_count": 12
        }
      ]
    },
    {
      "cell_type": "markdown",
      "source": [
        "### Removing Duplicates"
      ],
      "metadata": {
        "id": "kWDRuLunsHU_"
      }
    },
    {
      "cell_type": "code",
      "source": [
        "wine = wine.drop_duplicates()\n",
        "wine.duplicated().sum()"
      ],
      "metadata": {
        "colab": {
          "base_uri": "https://localhost:8080/"
        },
        "id": "Sp1A8B5vVH6R",
        "outputId": "157cc90d-25b9-4997-a8e9-02021dce0f76"
      },
      "execution_count": 13,
      "outputs": [
        {
          "output_type": "execute_result",
          "data": {
            "text/plain": [
              "0"
            ]
          },
          "metadata": {},
          "execution_count": 13
        }
      ]
    },
    {
      "cell_type": "markdown",
      "source": [
        "### Checking for categorical errors"
      ],
      "metadata": {
        "id": "itNnCQ6ysglm"
      }
    },
    {
      "cell_type": "code",
      "source": [
        "# Inspect categorical columns for errors\n",
        "cat_cols = make_column_selector(dtype_include='object')(wine)\n",
        "for col in cat_cols:\n",
        "  display(wine[col].value_counts(normalize=True))"
      ],
      "metadata": {
        "colab": {
          "base_uri": "https://localhost:8080/",
          "height": 1000
        },
        "id": "B_Gvl-9UVu54",
        "outputId": "104f8e29-2aca-4700-e311-88021143c312"
      },
      "execution_count": 15,
      "outputs": [
        {
          "output_type": "display_data",
          "data": {
            "text/plain": [
              "Vega Sicilia                            0.047363\n",
              "Alvaro Palacios                         0.023438\n",
              "Artadi                                  0.020996\n",
              "La Rioja Alta                           0.017578\n",
              "Marques de Murrieta                     0.016113\n",
              "                                          ...   \n",
              "Valdelosfrailes                         0.000488\n",
              "Briego                                  0.000488\n",
              "Guillem Carol - Cellers Carol Valles    0.000488\n",
              "Particular                              0.000488\n",
              "Binigrau                                0.000488\n",
              "Name: winery, Length: 480, dtype: float64"
            ]
          },
          "metadata": {}
        },
        {
          "output_type": "display_data",
          "data": {
            "text/plain": [
              "Tinto                                                 0.027344\n",
              "Unico                                                 0.020020\n",
              "Valbuena 5o                                           0.015625\n",
              "Reserva                                               0.015137\n",
              "Priorat                                               0.012695\n",
              "                                                        ...   \n",
              "San Valentin Parellada                                0.000488\n",
              "Silvanus Edicion Limitada Ribera del Duero            0.000488\n",
              "El Jardin de las Iguales Vinedo Historico Garnacha    0.000488\n",
              "Garnacha Vinas Centenarias                            0.000488\n",
              "Capricho Crianza                                      0.000488\n",
              "Name: wine, Length: 847, dtype: float64"
            ]
          },
          "metadata": {}
        },
        {
          "output_type": "display_data",
          "data": {
            "text/plain": [
              "2016    0.118768\n",
              "2017    0.117302\n",
              "2015    0.100684\n",
              "2018    0.095797\n",
              "2014    0.077224\n",
              "          ...   \n",
              "1953    0.000489\n",
              "1972    0.000489\n",
              "1974    0.000489\n",
              "1931    0.000489\n",
              "1925    0.000489\n",
              "Name: year, Length: 71, dtype: float64"
            ]
          },
          "metadata": {}
        },
        {
          "output_type": "display_data",
          "data": {
            "text/plain": [
              "Espana    1.0\n",
              "Name: country, dtype: float64"
            ]
          },
          "metadata": {}
        },
        {
          "output_type": "display_data",
          "data": {
            "text/plain": [
              "Ribera del Duero                   0.264160\n",
              "Rioja                              0.233887\n",
              "Priorato                           0.122070\n",
              "Toro                               0.040039\n",
              "Castilla y Leon                    0.024902\n",
              "                                     ...   \n",
              "Ribera del Gallego-Cinco Villas    0.000488\n",
              "Monterrei                          0.000488\n",
              "Jerez Cream                        0.000488\n",
              "Condado de Huelva                  0.000488\n",
              "Abona                              0.000488\n",
              "Name: region, Length: 76, dtype: float64"
            ]
          },
          "metadata": {}
        },
        {
          "output_type": "display_data",
          "data": {
            "text/plain": [
              "Ribera Del Duero Red    0.275489\n",
              "Rioja Red               0.232235\n",
              "Priorat Red             0.122554\n",
              "Red                     0.108136\n",
              "Toro Red                0.040165\n",
              "Tempranillo             0.037590\n",
              "Sherry                  0.028836\n",
              "Rioja White             0.019053\n",
              "Pedro Ximenez           0.018023\n",
              "Grenache                0.018023\n",
              "Albarino                0.017508\n",
              "Cava                    0.016993\n",
              "Verdejo                 0.013903\n",
              "Monastrell              0.009269\n",
              "Mencia                  0.008754\n",
              "Montsant Red            0.008754\n",
              "Syrah                   0.007724\n",
              "Chardonnay              0.006694\n",
              "Cabernet Sauvignon      0.005664\n",
              "Sparkling               0.002575\n",
              "Sauvignon Blanc         0.002060\n",
              "Name: type, dtype: float64"
            ]
          },
          "metadata": {}
        }
      ]
    },
    {
      "cell_type": "markdown",
      "source": [
        "### Checking for missing values"
      ],
      "metadata": {
        "id": "TYXrl0-gspIP"
      }
    },
    {
      "cell_type": "code",
      "source": [
        "wine.isna().sum()"
      ],
      "metadata": {
        "colab": {
          "base_uri": "https://localhost:8080/"
        },
        "id": "-h09RoXLsov8",
        "outputId": "f3e25069-e76f-47a1-fd06-52aae7e7c082"
      },
      "execution_count": 21,
      "outputs": [
        {
          "output_type": "execute_result",
          "data": {
            "text/plain": [
              "winery           0\n",
              "wine             0\n",
              "year             2\n",
              "rating           0\n",
              "num_reviews      0\n",
              "country          0\n",
              "region           0\n",
              "price            0\n",
              "type           106\n",
              "body           271\n",
              "acidity        271\n",
              "dtype: int64"
            ]
          },
          "metadata": {},
          "execution_count": 21
        }
      ]
    },
    {
      "cell_type": "markdown",
      "source": [
        "Will possibly remove year as well as the country column.\n",
        "\n",
        "Will address the rest of the missing values during preprocessing"
      ],
      "metadata": {
        "id": "b4xq0xNXsz3F"
      }
    },
    {
      "cell_type": "markdown",
      "source": [
        "## Visuals"
      ],
      "metadata": {
        "id": "3i6igifny8QD"
      }
    },
    {
      "cell_type": "markdown",
      "source": [
        "### Heatmap\n"
      ],
      "metadata": {
        "id": "okVEuI2NtirX"
      }
    },
    {
      "cell_type": "code",
      "source": [
        "corr = wine.corr()\n",
        "sns.set(font_scale=1)\n",
        "plt.figure(figsize=(10,10))\n",
        "sns.heatmap(corr, cmap = 'RdBu_r', annot = True);"
      ],
      "metadata": {
        "id": "yxn_zlNkzABo",
        "colab": {
          "base_uri": "https://localhost:8080/",
          "height": 599
        },
        "outputId": "30be0b86-bfab-4076-ba92-0c42de333070"
      },
      "execution_count": 19,
      "outputs": [
        {
          "output_type": "display_data",
          "data": {
            "text/plain": [
              "<Figure size 720x720 with 2 Axes>"
            ],
            "image/png": "[encoded data removed]"
          },
          "metadata": {}
        }
      ]
    },
    {
      "cell_type": "markdown",
      "source": [
        "Using the heatmap above you can see there is a moderate correlation between the price and the rating."
      ],
      "metadata": {
        "id": "BuJPSzpegAeN"
      }
    },
    {
      "cell_type": "markdown",
      "source": [
        "### Boxplot"
      ],
      "metadata": {
        "id": "YUNjDWHHvARs"
      }
    },
    {
      "cell_type": "code",
      "source": [
        "sns.boxplot(data=wine, x='rating');"
      ],
      "metadata": {
        "colab": {
          "base_uri": "https://localhost:8080/",
          "height": 285
        },
        "id": "V_UJ84hGgBWJ",
        "outputId": "29723408-7148-4f1e-9ce2-06f2a04a0a0c"
      },
      "execution_count": 23,
      "outputs": [
        {
          "output_type": "display_data",
          "data": {
            "text/plain": [
              "<Figure size 432x288 with 1 Axes>"
            ],
            "image/png": "[encoded data removed]"
          },
          "metadata": {}
        }
      ]
    },
    {
      "cell_type": "markdown",
      "source": [
        "The boxplot above shows the average rating is 4.4 and the biggest outlier is 4.9."
      ],
      "metadata": {
        "id": "UaVGR-D7uvLb"
      }
    },
    {
      "cell_type": "markdown",
      "source": [
        "## Preprocessing"
      ],
      "metadata": {
        "id": "1_ldjmMLzAgh"
      }
    },
    {
      "cell_type": "code",
      "source": [],
      "metadata": {
        "id": "tzdMClxMzDnn"
      },
      "execution_count": null,
      "outputs": []
    },
    {
      "cell_type": "markdown",
      "source": [
        "## Models"
      ],
      "metadata": {
        "id": "L9A25OEHzEAp"
      }
    }
  ]
}